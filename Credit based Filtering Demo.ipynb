{
 "cells": [
  {
   "cell_type": "code",
   "execution_count": 1,
   "id": "2e897cbc",
   "metadata": {},
   "outputs": [],
   "source": [
    "import pandas as pd\n",
    "from sklearn.feature_extraction.text import TfidfVectorizer\n",
    "from sklearn.feature_extraction.text import CountVectorizer"
   ]
  },
  {
   "cell_type": "code",
   "execution_count": 2,
   "id": "e82329b6",
   "metadata": {},
   "outputs": [],
   "source": [
    "d1='petrol cars are cheaper than diesel cars'\n",
    "\n",
    "d2='diesel is cheaper than petrol'\n",
    "\n",
    "d3='diesel cars are costlier than petrol cars'\n",
    "\n",
    "d4= 'petrol is costlier than diesel'"
   ]
  },
  {
   "cell_type": "code",
   "execution_count": 3,
   "id": "10b83add",
   "metadata": {},
   "outputs": [],
   "source": [
    "# create our dataframe\n",
    "d=[['d1',d1],['d2',d2],['d3',d3],['d4',d4]]\n",
    "df=pd.DataFrame(d,columns=['d','ds'])"
   ]
  },
  {
   "cell_type": "code",
   "execution_count": 4,
   "id": "12ac3f1f",
   "metadata": {
    "scrolled": false
   },
   "outputs": [
    {
     "data": {
      "text/html": [
       "<div>\n",
       "<style scoped>\n",
       "    .dataframe tbody tr th:only-of-type {\n",
       "        vertical-align: middle;\n",
       "    }\n",
       "\n",
       "    .dataframe tbody tr th {\n",
       "        vertical-align: top;\n",
       "    }\n",
       "\n",
       "    .dataframe thead th {\n",
       "        text-align: right;\n",
       "    }\n",
       "</style>\n",
       "<table border=\"1\" class=\"dataframe\">\n",
       "  <thead>\n",
       "    <tr style=\"text-align: right;\">\n",
       "      <th></th>\n",
       "      <th>d</th>\n",
       "      <th>ds</th>\n",
       "    </tr>\n",
       "  </thead>\n",
       "  <tbody>\n",
       "    <tr>\n",
       "      <th>0</th>\n",
       "      <td>d1</td>\n",
       "      <td>petrol cars are cheaper than diesel cars</td>\n",
       "    </tr>\n",
       "    <tr>\n",
       "      <th>1</th>\n",
       "      <td>d2</td>\n",
       "      <td>diesel is cheaper than petrol</td>\n",
       "    </tr>\n",
       "    <tr>\n",
       "      <th>2</th>\n",
       "      <td>d3</td>\n",
       "      <td>diesel cars are costlier than petrol cars</td>\n",
       "    </tr>\n",
       "    <tr>\n",
       "      <th>3</th>\n",
       "      <td>d4</td>\n",
       "      <td>petrol is costlier than diesel</td>\n",
       "    </tr>\n",
       "  </tbody>\n",
       "</table>\n",
       "</div>"
      ],
      "text/plain": [
       "    d                                         ds\n",
       "0  d1   petrol cars are cheaper than diesel cars\n",
       "1  d2              diesel is cheaper than petrol\n",
       "2  d3  diesel cars are costlier than petrol cars\n",
       "3  d4             petrol is costlier than diesel"
      ]
     },
     "execution_count": 4,
     "metadata": {},
     "output_type": "execute_result"
    }
   ],
   "source": [
    "df"
   ]
  },
  {
   "cell_type": "code",
   "execution_count": 5,
   "id": "6d1a4f7b",
   "metadata": {},
   "outputs": [
    {
     "data": {
      "text/html": [
       "<div>\n",
       "<style scoped>\n",
       "    .dataframe tbody tr th:only-of-type {\n",
       "        vertical-align: middle;\n",
       "    }\n",
       "\n",
       "    .dataframe tbody tr th {\n",
       "        vertical-align: top;\n",
       "    }\n",
       "\n",
       "    .dataframe thead th {\n",
       "        text-align: right;\n",
       "    }\n",
       "</style>\n",
       "<table border=\"1\" class=\"dataframe\">\n",
       "  <thead>\n",
       "    <tr style=\"text-align: right;\">\n",
       "      <th></th>\n",
       "      <th>cars</th>\n",
       "      <th>cheaper</th>\n",
       "      <th>costlier</th>\n",
       "      <th>diesel</th>\n",
       "      <th>petrol</th>\n",
       "    </tr>\n",
       "  </thead>\n",
       "  <tbody>\n",
       "    <tr>\n",
       "      <th>0</th>\n",
       "      <td>2</td>\n",
       "      <td>1</td>\n",
       "      <td>0</td>\n",
       "      <td>1</td>\n",
       "      <td>1</td>\n",
       "    </tr>\n",
       "    <tr>\n",
       "      <th>1</th>\n",
       "      <td>0</td>\n",
       "      <td>1</td>\n",
       "      <td>0</td>\n",
       "      <td>1</td>\n",
       "      <td>1</td>\n",
       "    </tr>\n",
       "    <tr>\n",
       "      <th>2</th>\n",
       "      <td>2</td>\n",
       "      <td>0</td>\n",
       "      <td>1</td>\n",
       "      <td>1</td>\n",
       "      <td>1</td>\n",
       "    </tr>\n",
       "    <tr>\n",
       "      <th>3</th>\n",
       "      <td>0</td>\n",
       "      <td>0</td>\n",
       "      <td>1</td>\n",
       "      <td>1</td>\n",
       "      <td>1</td>\n",
       "    </tr>\n",
       "  </tbody>\n",
       "</table>\n",
       "</div>"
      ],
      "text/plain": [
       "   cars  cheaper  costlier  diesel  petrol\n",
       "0     2        1         0       1       1\n",
       "1     0        1         0       1       1\n",
       "2     2        0         1       1       1\n",
       "3     0        0         1       1       1"
      ]
     },
     "execution_count": 5,
     "metadata": {},
     "output_type": "execute_result"
    }
   ],
   "source": [
    "vectorizer = CountVectorizer(stop_words='english')\n",
    "embeddings = vectorizer.fit_transform(df['ds'])\n",
    "\n",
    "\n",
    "# create our dataframe for countvectorizer\n",
    "cvdf = pd.DataFrame(embeddings.toarray(),columns=vectorizer.get_feature_names_out())\n",
    "cvdf"
   ]
  },
  {
   "cell_type": "code",
   "execution_count": 6,
   "id": "6ee8fad0",
   "metadata": {},
   "outputs": [],
   "source": [
    "#Define a TF-IDF Vectorizer Object. Remove all english stop words such as 'the', 'a'\n",
    "tfidf = TfidfVectorizer(stop_words='english')"
   ]
  },
  {
   "cell_type": "code",
   "execution_count": 7,
   "id": "0e7926d0",
   "metadata": {},
   "outputs": [
    {
     "data": {
      "text/plain": [
       "(4, 5)"
      ]
     },
     "execution_count": 7,
     "metadata": {},
     "output_type": "execute_result"
    }
   ],
   "source": [
    "#Construct the required TF-IDF matrix by fitting and transforming the data\n",
    "tfidf_matrix = tfidf.fit_transform(df['ds'])\n",
    "\n",
    "#Output the shape of tfidf_matrix\n",
    "tfidf_matrix.shape"
   ]
  },
  {
   "cell_type": "code",
   "execution_count": 8,
   "id": "60794533",
   "metadata": {},
   "outputs": [
    {
     "name": "stdout",
     "output_type": "stream",
     "text": [
      "  (0, 3)\t0.2730470684276293\n",
      "  (0, 1)\t0.41252650747464825\n",
      "  (0, 0)\t0.8250530149492965\n",
      "  (0, 4)\t0.2730470684276293\n",
      "  (1, 3)\t0.4832218287328064\n",
      "  (1, 1)\t0.730063920812585\n",
      "  (1, 4)\t0.4832218287328064\n",
      "  (2, 2)\t0.41252650747464825\n",
      "  (2, 3)\t0.2730470684276293\n",
      "  (2, 0)\t0.8250530149492965\n",
      "  (2, 4)\t0.2730470684276293\n",
      "  (3, 2)\t0.730063920812585\n",
      "  (3, 3)\t0.4832218287328064\n",
      "  (3, 4)\t0.4832218287328064\n"
     ]
    }
   ],
   "source": [
    "print(tfidf_matrix)"
   ]
  },
  {
   "cell_type": "code",
   "execution_count": 9,
   "id": "094b1f0c",
   "metadata": {},
   "outputs": [
    {
     "name": "stdout",
     "output_type": "stream",
     "text": [
      "Feature Names n ['cars' 'cheaper' 'costlier' 'diesel' 'petrol']\n"
     ]
    }
   ],
   "source": [
    "print(\"Feature Names n\",tfidf.get_feature_names_out())"
   ]
  },
  {
   "cell_type": "code",
   "execution_count": 10,
   "id": "c8ab336e",
   "metadata": {},
   "outputs": [
    {
     "name": "stdout",
     "output_type": "stream",
     "text": [
      "0 cars\n",
      "1 cheaper\n",
      "2 costlier\n",
      "3 diesel\n",
      "4 petrol\n"
     ]
    }
   ],
   "source": [
    "for i, feature in enumerate(tfidf.get_feature_names_out()):\n",
    "    print(i, feature)"
   ]
  },
  {
   "cell_type": "code",
   "execution_count": 11,
   "id": "b125a5d1",
   "metadata": {
    "scrolled": true
   },
   "outputs": [
    {
     "data": {
      "text/html": [
       "<div>\n",
       "<style scoped>\n",
       "    .dataframe tbody tr th:only-of-type {\n",
       "        vertical-align: middle;\n",
       "    }\n",
       "\n",
       "    .dataframe tbody tr th {\n",
       "        vertical-align: top;\n",
       "    }\n",
       "\n",
       "    .dataframe thead th {\n",
       "        text-align: right;\n",
       "    }\n",
       "</style>\n",
       "<table border=\"1\" class=\"dataframe\">\n",
       "  <thead>\n",
       "    <tr style=\"text-align: right;\">\n",
       "      <th></th>\n",
       "      <th>cars</th>\n",
       "      <th>cheaper</th>\n",
       "      <th>costlier</th>\n",
       "      <th>diesel</th>\n",
       "      <th>petrol</th>\n",
       "    </tr>\n",
       "  </thead>\n",
       "  <tbody>\n",
       "    <tr>\n",
       "      <th>0</th>\n",
       "      <td>0.825053</td>\n",
       "      <td>0.412527</td>\n",
       "      <td>0.000000</td>\n",
       "      <td>0.273047</td>\n",
       "      <td>0.273047</td>\n",
       "    </tr>\n",
       "    <tr>\n",
       "      <th>1</th>\n",
       "      <td>0.000000</td>\n",
       "      <td>0.730064</td>\n",
       "      <td>0.000000</td>\n",
       "      <td>0.483222</td>\n",
       "      <td>0.483222</td>\n",
       "    </tr>\n",
       "    <tr>\n",
       "      <th>2</th>\n",
       "      <td>0.825053</td>\n",
       "      <td>0.000000</td>\n",
       "      <td>0.412527</td>\n",
       "      <td>0.273047</td>\n",
       "      <td>0.273047</td>\n",
       "    </tr>\n",
       "    <tr>\n",
       "      <th>3</th>\n",
       "      <td>0.000000</td>\n",
       "      <td>0.000000</td>\n",
       "      <td>0.730064</td>\n",
       "      <td>0.483222</td>\n",
       "      <td>0.483222</td>\n",
       "    </tr>\n",
       "  </tbody>\n",
       "</table>\n",
       "</div>"
      ],
      "text/plain": [
       "       cars   cheaper  costlier    diesel    petrol\n",
       "0  0.825053  0.412527  0.000000  0.273047  0.273047\n",
       "1  0.000000  0.730064  0.000000  0.483222  0.483222\n",
       "2  0.825053  0.000000  0.412527  0.273047  0.273047\n",
       "3  0.000000  0.000000  0.730064  0.483222  0.483222"
      ]
     },
     "execution_count": 11,
     "metadata": {},
     "output_type": "execute_result"
    }
   ],
   "source": [
    "df_tfidf_sklearn = pd.DataFrame(tfidf_matrix.toarray(),columns=tfidf.get_feature_names_out())\n",
    "df_tfidf_sklearn"
   ]
  },
  {
   "cell_type": "code",
   "execution_count": 12,
   "id": "604f2e19",
   "metadata": {},
   "outputs": [],
   "source": [
    "X=tfidf_matrix.toarray()\n",
    "Y=tfidf_matrix.toarray()"
   ]
  },
  {
   "cell_type": "code",
   "execution_count": 13,
   "id": "3cd43575",
   "metadata": {},
   "outputs": [
    {
     "data": {
      "text/plain": [
       "array([[1.        , 0.56505533, 0.82982188, 0.26388461],\n",
       "       [0.56505533, 1.        , 0.26388461, 0.46700667],\n",
       "       [0.82982188, 0.26388461, 1.        , 0.56505533],\n",
       "       [0.26388461, 0.46700667, 0.56505533, 1.        ]])"
      ]
     },
     "execution_count": 13,
     "metadata": {},
     "output_type": "execute_result"
    }
   ],
   "source": [
    "X@Y.T"
   ]
  },
  {
   "cell_type": "code",
   "execution_count": 14,
   "id": "694813d1",
   "metadata": {},
   "outputs": [],
   "source": [
    "# Import linear_kernel\n",
    "from sklearn.metrics.pairwise import linear_kernel\n",
    "\n",
    "# Compute the cosine similarity matrix\n",
    "cosine_sim = linear_kernel(tfidf_matrix, tfidf_matrix)"
   ]
  },
  {
   "cell_type": "code",
   "execution_count": 15,
   "id": "5674c334",
   "metadata": {},
   "outputs": [
    {
     "data": {
      "text/plain": [
       "(4, 4)"
      ]
     },
     "execution_count": 15,
     "metadata": {},
     "output_type": "execute_result"
    }
   ],
   "source": [
    "cosine_sim.shape"
   ]
  },
  {
   "cell_type": "code",
   "execution_count": 16,
   "id": "ab203c9a",
   "metadata": {
    "scrolled": true
   },
   "outputs": [
    {
     "data": {
      "text/plain": [
       "array([[1.        , 0.56505533, 0.82982188, 0.26388461],\n",
       "       [0.56505533, 1.        , 0.26388461, 0.46700667],\n",
       "       [0.82982188, 0.26388461, 1.        , 0.56505533],\n",
       "       [0.26388461, 0.46700667, 0.56505533, 1.        ]])"
      ]
     },
     "execution_count": 16,
     "metadata": {},
     "output_type": "execute_result"
    }
   ],
   "source": [
    "cosine_sim"
   ]
  },
  {
   "cell_type": "code",
   "execution_count": 17,
   "id": "ae6fe102",
   "metadata": {},
   "outputs": [
    {
     "data": {
      "text/html": [
       "<div>\n",
       "<style scoped>\n",
       "    .dataframe tbody tr th:only-of-type {\n",
       "        vertical-align: middle;\n",
       "    }\n",
       "\n",
       "    .dataframe tbody tr th {\n",
       "        vertical-align: top;\n",
       "    }\n",
       "\n",
       "    .dataframe thead th {\n",
       "        text-align: right;\n",
       "    }\n",
       "</style>\n",
       "<table border=\"1\" class=\"dataframe\">\n",
       "  <thead>\n",
       "    <tr style=\"text-align: right;\">\n",
       "      <th></th>\n",
       "      <th>d1</th>\n",
       "      <th>d2</th>\n",
       "      <th>d3</th>\n",
       "      <th>d4</th>\n",
       "    </tr>\n",
       "  </thead>\n",
       "  <tbody>\n",
       "    <tr>\n",
       "      <th>d1</th>\n",
       "      <td>1.000000</td>\n",
       "      <td>0.565055</td>\n",
       "      <td>0.829822</td>\n",
       "      <td>0.263885</td>\n",
       "    </tr>\n",
       "    <tr>\n",
       "      <th>d2</th>\n",
       "      <td>0.565055</td>\n",
       "      <td>1.000000</td>\n",
       "      <td>0.263885</td>\n",
       "      <td>0.467007</td>\n",
       "    </tr>\n",
       "    <tr>\n",
       "      <th>d3</th>\n",
       "      <td>0.829822</td>\n",
       "      <td>0.263885</td>\n",
       "      <td>1.000000</td>\n",
       "      <td>0.565055</td>\n",
       "    </tr>\n",
       "    <tr>\n",
       "      <th>d4</th>\n",
       "      <td>0.263885</td>\n",
       "      <td>0.467007</td>\n",
       "      <td>0.565055</td>\n",
       "      <td>1.000000</td>\n",
       "    </tr>\n",
       "  </tbody>\n",
       "</table>\n",
       "</div>"
      ],
      "text/plain": [
       "          d1        d2        d3        d4\n",
       "d1  1.000000  0.565055  0.829822  0.263885\n",
       "d2  0.565055  1.000000  0.263885  0.467007\n",
       "d3  0.829822  0.263885  1.000000  0.565055\n",
       "d4  0.263885  0.467007  0.565055  1.000000"
      ]
     },
     "execution_count": 17,
     "metadata": {},
     "output_type": "execute_result"
    }
   ],
   "source": [
    "cos=pd.DataFrame(cosine_sim,index=['d1','d2','d3','d4'],columns=['d1','d2','d3','d4'])\n",
    "cos"
   ]
  },
  {
   "cell_type": "code",
   "execution_count": 18,
   "id": "c0a4fd91",
   "metadata": {},
   "outputs": [],
   "source": [
    "#Construct a reverse map of indices and document names\n",
    "indices = pd.Series(df.index, index=df['d']).drop_duplicates()\n"
   ]
  },
  {
   "cell_type": "code",
   "execution_count": 19,
   "id": "e0c1b252",
   "metadata": {},
   "outputs": [
    {
     "data": {
      "text/plain": [
       "d\n",
       "d1    0\n",
       "d2    1\n",
       "d3    2\n",
       "d4    3\n",
       "dtype: int64"
      ]
     },
     "execution_count": 19,
     "metadata": {},
     "output_type": "execute_result"
    }
   ],
   "source": [
    "indices\n"
   ]
  },
  {
   "cell_type": "code",
   "execution_count": 20,
   "id": "05353723",
   "metadata": {},
   "outputs": [
    {
     "data": {
      "text/plain": [
       "2"
      ]
     },
     "execution_count": 20,
     "metadata": {},
     "output_type": "execute_result"
    }
   ],
   "source": [
    "indices['d3']"
   ]
  },
  {
   "cell_type": "code",
   "execution_count": 21,
   "id": "7dffb372",
   "metadata": {},
   "outputs": [
    {
     "data": {
      "text/plain": [
       "[(0, 0.5650553269575254),\n",
       " (1, 0.9999999999999996),\n",
       " (2, 0.26388460747146153),\n",
       " (3, 0.4670066715277553)]"
      ]
     },
     "execution_count": 21,
     "metadata": {},
     "output_type": "execute_result"
    }
   ],
   "source": [
    "sim_scor=list(enumerate(cosine_sim[1]))\n",
    "sim_scor"
   ]
  },
  {
   "cell_type": "code",
   "execution_count": 22,
   "id": "b0bc5912",
   "metadata": {},
   "outputs": [
    {
     "data": {
      "text/plain": [
       "[(1, 0.9999999999999996),\n",
       " (0, 0.5650553269575254),\n",
       " (3, 0.4670066715277553),\n",
       " (2, 0.26388460747146153)]"
      ]
     },
     "execution_count": 22,
     "metadata": {},
     "output_type": "execute_result"
    }
   ],
   "source": [
    "sim_scor=sorted(sim_scor, key=lambda x: x[1], reverse=True)\n",
    "sim_scor"
   ]
  },
  {
   "cell_type": "code",
   "execution_count": 23,
   "id": "61f2b627",
   "metadata": {},
   "outputs": [
    {
     "data": {
      "text/plain": [
       "[(0, 0.5650553269575254), (3, 0.4670066715277553), (2, 0.26388460747146153)]"
      ]
     },
     "execution_count": 23,
     "metadata": {},
     "output_type": "execute_result"
    }
   ],
   "source": [
    "# Get the scores of the 3 most similar documents\n",
    "sim_scor = sim_scor[1:4]\n",
    "sim_scor"
   ]
  },
  {
   "cell_type": "code",
   "execution_count": 24,
   "id": "ec7f9727",
   "metadata": {},
   "outputs": [
    {
     "data": {
      "text/plain": [
       "0"
      ]
     },
     "execution_count": 24,
     "metadata": {},
     "output_type": "execute_result"
    }
   ],
   "source": [
    "# Get the indices\n",
    "sim_scor[0][0]"
   ]
  },
  {
   "cell_type": "code",
   "execution_count": 25,
   "id": "4e8dd4d4",
   "metadata": {},
   "outputs": [],
   "source": [
    "ind=[i[0] for i in sim_scor]"
   ]
  },
  {
   "cell_type": "code",
   "execution_count": 26,
   "id": "cce22edb",
   "metadata": {},
   "outputs": [
    {
     "data": {
      "text/plain": [
       "[0, 3, 2]"
      ]
     },
     "execution_count": 26,
     "metadata": {},
     "output_type": "execute_result"
    }
   ],
   "source": [
    "ind"
   ]
  },
  {
   "cell_type": "code",
   "execution_count": 27,
   "id": "b3715f9c",
   "metadata": {},
   "outputs": [
    {
     "data": {
      "text/plain": [
       "0    d1\n",
       "3    d4\n",
       "2    d3\n",
       "Name: d, dtype: object"
      ]
     },
     "execution_count": 27,
     "metadata": {},
     "output_type": "execute_result"
    }
   ],
   "source": [
    "df.d.iloc[ind]"
   ]
  },
  {
   "cell_type": "code",
   "execution_count": 28,
   "id": "2d828ebd",
   "metadata": {},
   "outputs": [
    {
     "data": {
      "text/html": [
       "<div>\n",
       "<style scoped>\n",
       "    .dataframe tbody tr th:only-of-type {\n",
       "        vertical-align: middle;\n",
       "    }\n",
       "\n",
       "    .dataframe tbody tr th {\n",
       "        vertical-align: top;\n",
       "    }\n",
       "\n",
       "    .dataframe thead th {\n",
       "        text-align: right;\n",
       "    }\n",
       "</style>\n",
       "<table border=\"1\" class=\"dataframe\">\n",
       "  <thead>\n",
       "    <tr style=\"text-align: right;\">\n",
       "      <th></th>\n",
       "      <th>d</th>\n",
       "      <th>ds</th>\n",
       "    </tr>\n",
       "  </thead>\n",
       "  <tbody>\n",
       "    <tr>\n",
       "      <th>0</th>\n",
       "      <td>d1</td>\n",
       "      <td>petrol cars are cheaper than diesel cars</td>\n",
       "    </tr>\n",
       "    <tr>\n",
       "      <th>3</th>\n",
       "      <td>d4</td>\n",
       "      <td>petrol is costlier than diesel</td>\n",
       "    </tr>\n",
       "    <tr>\n",
       "      <th>2</th>\n",
       "      <td>d3</td>\n",
       "      <td>diesel cars are costlier than petrol cars</td>\n",
       "    </tr>\n",
       "  </tbody>\n",
       "</table>\n",
       "</div>"
      ],
      "text/plain": [
       "    d                                         ds\n",
       "0  d1   petrol cars are cheaper than diesel cars\n",
       "3  d4             petrol is costlier than diesel\n",
       "2  d3  diesel cars are costlier than petrol cars"
      ]
     },
     "execution_count": 28,
     "metadata": {},
     "output_type": "execute_result"
    }
   ],
   "source": [
    "pd.DataFrame(df[['d','ds']].iloc[ind])"
   ]
  }
 ],
 "metadata": {
  "kernelspec": {
   "display_name": "Python 3 (ipykernel)",
   "language": "python",
   "name": "python3"
  },
  "language_info": {
   "codemirror_mode": {
    "name": "ipython",
    "version": 3
   },
   "file_extension": ".py",
   "mimetype": "text/x-python",
   "name": "python",
   "nbconvert_exporter": "python",
   "pygments_lexer": "ipython3",
   "version": "3.9.13"
  }
 },
 "nbformat": 4,
 "nbformat_minor": 5
}
